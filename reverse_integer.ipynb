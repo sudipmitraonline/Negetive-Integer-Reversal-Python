{
  "nbformat": 4,
  "nbformat_minor": 0,
  "metadata": {
    "colab": {
      "name": "reverse_integer.ipynb",
      "provenance": [],
      "collapsed_sections": [],
      "authorship_tag": "ABX9TyM95fXqoDatAGAhodJMlPnX",
      "include_colab_link": true
    },
    "kernelspec": {
      "name": "python3",
      "display_name": "Python 3"
    }
  },
  "cells": [
    {
      "cell_type": "markdown",
      "metadata": {
        "id": "view-in-github",
        "colab_type": "text"
      },
      "source": [
        "<a href=\"https://colab.research.google.com/github/sudipmitraonline/Negetive-Integer-Reversal-Python/blob/master/reverse_integer.ipynb\" target=\"_parent\"><img src=\"https://colab.research.google.com/assets/colab-badge.svg\" alt=\"Open In Colab\"/></a>"
      ]
    },
    {
      "cell_type": "markdown",
      "metadata": {
        "id": "Yb1fHB3aiwml",
        "colab_type": "text"
      },
      "source": [
        "**Example 1:**\n",
        "\n",
        "Input: 123\n",
        "\n",
        "Output: 321\n",
        "\n",
        "**Example 2:**\n",
        "\n",
        "Input: -123\n",
        "\n",
        "Output: -321\n",
        "\n",
        "**Example 3:**\n",
        "\n",
        "Input: 120\n",
        "\n",
        "Output: 21"
      ]
    },
    {
      "cell_type": "code",
      "metadata": {
        "id": "_HGqDZ0FGV60",
        "colab_type": "code",
        "colab": {
          "base_uri": "https://localhost:8080/",
          "height": 202
        },
        "outputId": "cdd34e49-a0f2-4eb1-dbba-6bca383f6fb5"
      },
      "source": [
        "class Solution:\n",
        "    def reverse(self, x: int):  \n",
        "        if x > 0:                                 # handle positive numbers  \n",
        "            a =  int(str(x)[::-1])  \n",
        "        if x <=0:                                 # handle negative numbers  \n",
        "            a = -1 * int(str(x*-1)[::-1])  \n",
        "        return a\n",
        "\n",
        "#@Author : Sudip Mitra\n",
        "\n",
        "for index in range(int(input(\"Enter test cases : \"))):\n",
        "    print(\"Reversed Number : \" , Solution.reverse(\"\",int(input(\"Enter Number : \"))))"
      ],
      "execution_count": 11,
      "outputs": [
        {
          "output_type": "stream",
          "text": [
            "Enter test cases : 5\n",
            "Enter Number : 123\n",
            "Reversed Number :  321\n",
            "Enter Number : -258\n",
            "Reversed Number :  -852\n",
            "Enter Number : 753\n",
            "Reversed Number :  357\n",
            "Enter Number : 0147\n",
            "Reversed Number :  741\n",
            "Enter Number : 3620\n",
            "Reversed Number :  263\n"
          ],
          "name": "stdout"
        }
      ]
    }
  ]
}